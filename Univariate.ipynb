{
 "cells": [
  {
   "cell_type": "markdown",
   "metadata": {},
   "source": [
    "## The basic task is to create a function to generate histograms and boxplots for all the numerical variables in the dataset"
   ]
  },
  {
   "cell_type": "code",
   "execution_count": 8,
   "metadata": {},
   "outputs": [],
   "source": [
    "def graph_1(data):\n",
    "   \n",
    "    import pandas as pd    \n",
    "    import matplotlib.pyplot as plt\n",
    "    data= pd.read_csv(data)\n",
    "  \n",
    "    cat = []\n",
    "    #The below loop is used to obtain numerical variables based on their datatypes \n",
    " \n",
    "    for i in range(len(data.columns)):\n",
    "            if data.dtypes[i] == 'object':\n",
    "                cat.append(i)       \n",
    "    num =list(set(data)-set(data.columns[cat]))\n",
    "    \n",
    "    #In the below loop graphs are generated for the numerical variables obtained\n",
    "    \n",
    "    for i in range(0,len(num)):\n",
    "        \n",
    "        #Histograms\n",
    "        \n",
    "        var = num[i]\n",
    "        data.hist(num[i],bins=10,figsize=(5,6),grid=False,)\n",
    "        plt.xlabel(var)\n",
    "        plt.ylabel(\"Count\",fontsize=14)\n",
    "        plt.title(\"Histogram of \"+var,fontsize=16)\n",
    "        plt.savefig(var+'_histogram')\n",
    "        plt.close()\n",
    "        \n",
    "        #Boxplots\n",
    "        \n",
    "        data.boxplot(num[i],grid=False,figsize=(5,6))\n",
    "        plt.ylabel(\"Count\",fontsize=14)\n",
    "        plt.title(\"Boxplot of \"+var,fontsize=16)\n",
    "        plt.savefig(var+'_boxplot')\n",
    "        plt.close()\n",
    "    \n",
    "    "
   ]
  },
  {
   "cell_type": "markdown",
   "metadata": {},
   "source": [
    "## Suggestion1: To improve the code by adding an additional parameter \"variable\" that can take a vector of variable index and return the graphs for only those variables."
   ]
  },
  {
   "cell_type": "code",
   "execution_count": 9,
   "metadata": {},
   "outputs": [],
   "source": [
    "def graph_2(data,col):\n",
    "   \n",
    "    import pandas as pd    \n",
    "    import matplotlib.pyplot as plt\n",
    "    data= pd.read_csv(data)\n",
    "    cat = []\n",
    "    #The below line of code is to access only those columns which are mentioned in the function\n",
    "    \n",
    "    k=data[list(data.columns[col])]\n",
    "    \n",
    "    #The below loop is used to obtain numerical variables based on their datatypes \n",
    "    \n",
    "    for i in range(len(k.columns)):\n",
    "        if k.dtypes[i] == 'object':\n",
    "            cat.append(i)\n",
    "        \n",
    "    num =list(set(k)-set(k.columns[cat]))\n",
    "    \n",
    "    #In the below loop graphs are generated for the numerical variables obtained\n",
    "    \n",
    "    for i in range(0,len(num)):\n",
    "        \n",
    "    #Histogram\n",
    "        var = num[i]\n",
    "        data.hist(num[i],bins=10,figsize=(5,6),grid=False)\n",
    "        plt.ylabel(\"Count\",fontsize=14)\n",
    "        plt.title(\"Histogram of \"+var,fontsize=16)\n",
    "        plt.savefig(var+'_histogram')\n",
    "        plt.close()\n",
    "        \n",
    "      #Boxplots\n",
    "    \n",
    "        data.boxplot(num[i],grid=False,figsize=(5,6),)\n",
    "        plt.xlabel(var)\n",
    "        plt.ylabel(\"Count\",fontsize=14)\n",
    "        plt.title(\"Boxplot of \"+var,fontsize=16)\n",
    "        plt.savefig(var+'_boxplot')\n",
    "        plt.close()\n",
    "    \n",
    "    "
   ]
  },
  {
   "cell_type": "markdown",
   "metadata": {},
   "source": [
    "## Suggestion2: To improve the above code such that if the argument variable is ignored then it will return the graphs of all the numeric variables in the data by default."
   ]
  },
  {
   "cell_type": "code",
   "execution_count": 10,
   "metadata": {},
   "outputs": [],
   "source": [
    "def graph_3(data,col):\n",
    "   \n",
    "    import pandas as pd    \n",
    "    import matplotlib.pyplot as plt\n",
    "    data= pd.read_csv(data)\n",
    "    cat = []\n",
    "    #The below statements are used to obtain all the columns if the variable list is empty or \n",
    "    #the required columns mentioned in the list\n",
    "    \n",
    "    if len(col) == 0:\n",
    "         k=data[list(data.columns)]\n",
    "    else:\n",
    "        \n",
    "         k=data[list(data.columns[col])]\n",
    "            \n",
    "    #The below loop is used to obtain numerical variables based on their datatypes \n",
    "\n",
    "    for i in range(len(k.columns)):\n",
    "        if k.dtypes[i] == 'object':\n",
    "            cat.append(i)\n",
    "        \n",
    "    num =list(set(k)-set(k.columns[cat]))\n",
    "    \n",
    "    #In the below loop graphs are generated for the numerical variables obtained\n",
    "    \n",
    "    for i in range(0,len(num)):\n",
    "    \n",
    "    #Histogram\n",
    "        var = num[i]\n",
    "        data.hist(num[i],bins=10,figsize=(5,6),grid=False)\n",
    "        plt.ylabel(\"Count\",fontsize=14)\n",
    "        plt.title(\"Histogram of \"+var,fontsize=16)\n",
    "        plt.savefig(var+'_Histogram')\n",
    "        plt.close()\n",
    "        \n",
    "    #Boxplots\n",
    "        data.boxplot(num[i],grid=False,figsize=(5,6))\n",
    "        plt.xlabel(var)\n",
    "        plt.ylabel(\"Count\",fontsize=14)\n",
    "        plt.title(\"Boxplot of \"+var,fontsize=16)\n",
    "        plt.savefig(var+'_boxplot')\n",
    "        plt.close()\n",
    "    \n",
    "    "
   ]
  },
  {
   "cell_type": "markdown",
   "metadata": {},
   "source": [
    "## Suggestion3:The additional improvement to the above code is that the function will take the argument \"data\" and \"variable\" and will return boxplots & histograms for the numerical variables and bar plots for the categorical variables."
   ]
  },
  {
   "cell_type": "code",
   "execution_count": 11,
   "metadata": {},
   "outputs": [],
   "source": [
    "def graph_4(data,col):\n",
    "   \n",
    "    import pandas as pd    \n",
    "    import matplotlib.pyplot as plt\n",
    "    data= pd.read_csv(data)\n",
    "    cat = []\n",
    "    \n",
    "     #The below statements are used to obtain all the columns if the variable list is empty or \n",
    "    #the required columns mentioned in the list\n",
    "    \n",
    "    if len(col) == 0:\n",
    "         k=data[list(data.columns)]\n",
    "    else:\n",
    "        \n",
    "         k=data[list(data.columns[col])]\n",
    "            \n",
    "    #The below loop seperates categorical data from the numerical data in the dataset, the categorical data which are of  \n",
    "    #numerical datatypes are also separated based on the percentage of unique data available in the specific series.\n",
    "    \n",
    "    for i in range(len(k.columns)):\n",
    "        if k.dtypes[i] == 'object':\n",
    "            cat.append(i)\n",
    "        elif (len(k[k.columns[i]].unique())/len(k))*100 <= 20:\n",
    "            cat.append(i)\n",
    "    \n",
    "        \n",
    "    num =list(set(k)-set(k.columns[cat]))\n",
    "  #In the below loop graphs are generated for the numerical variables obtained\n",
    "    \n",
    "    for i in range(0,len(k.columns)):\n",
    "        if k.columns[i] in num:\n",
    "        #Histogram\n",
    "        \n",
    "            var = k.columns[i]\n",
    "            data.hist(k.columns[i],bins=10,figsize=(5,6),grid=False)\n",
    "            plt.xlabel(var)\n",
    "            plt.ylabel(\"count\")\n",
    "            plt.title(\"Histogram of \"+var)\n",
    "            plt.savefig(var+'_histogram')\n",
    "            plt.close()\n",
    "            \n",
    "        #Boxplots\n",
    "\n",
    "            data.boxplot(k.columns[i],grid=False)\n",
    "            plt.ylabel(\"Count\",fontsize=14)\n",
    "            plt.title(\"Boxplot of \"+var,fontsize=16)\n",
    "            plt.savefig(var+'_boxplot')\n",
    "            plt.close()\n",
    "            \n",
    "        #Bargraphs\n",
    "        \n",
    "        else:\n",
    "            var =k.columns[i]\n",
    "            data[var].value_counts().plot(kind = 'bar',figsize=(5,6),fontsize=14)\n",
    "            plt.xlabel(var,fontsize=14)\n",
    "            plt.ylabel(\"Count\",fontsize=14)\n",
    "            plt.title(\"Bar graph of \"+var,fontsize=16)\n",
    "            plt.savefig(var+'_bargraph ')\n",
    "            plt.close()"
   ]
  },
  {
   "cell_type": "markdown",
   "metadata": {},
   "source": [
    "## Suggestion4: Give an additional argument in the function called \"dir\" (directory), which will enable the function to export all the image files to your specified folder "
   ]
  },
  {
   "cell_type": "code",
   "execution_count": 12,
   "metadata": {},
   "outputs": [],
   "source": [
    "def graph_5(data,col,directory):\n",
    "   \n",
    "    import pandas as pd    \n",
    "    import matplotlib.pyplot as plt\n",
    "    data= pd.read_csv(data)\n",
    "    cat = []\n",
    "    #The below statements are used to obtain all the columns if the variable list is empty or \n",
    "    #the required columns mentioned in the list\n",
    "    \n",
    "    if len(col) == 0:\n",
    "         k=data[list(data.columns)]\n",
    "    else:\n",
    "        \n",
    "         k=data[list(data.columns[col])]\n",
    "            \n",
    "    #The below loop seperates categorical data from the numerical data in the dataset, the categorical data which are of numerical \n",
    "    #datatypes are also seperated\n",
    "    \n",
    "    for i in range(len(k.columns)):\n",
    "        if k.dtypes[i] == 'object':\n",
    "            cat.append(i)\n",
    "        elif (len(k[k.columns[i]].unique())/len(k))*100 <= 20:\n",
    "            cat.append(i)\n",
    "    \n",
    "        \n",
    "    num =list(set(k)-set(k.columns[cat]))\n",
    "    \n",
    "    #In the below loop graphs are generated for the numerical variables obtained\n",
    "    \n",
    "    for i in range(0,len(k.columns)):\n",
    "        \n",
    "    #Histogram\n",
    "    \n",
    "        if k.columns[i] in num:\n",
    "            var = k.columns[i]\n",
    "            data.hist(k.columns[i],bins=10,figsize=(5,6),grid=False)\n",
    "            plt.xlabel(var)\n",
    "            plt.ylabel(\"Count\",fontsize=14)\n",
    "            plt.title(\"Histogram of \"+var,fontsize=14)\n",
    "            plt.savefig(directory+ var +\"_histogram\")\n",
    "            plt.close()\n",
    "    \n",
    "    #Boxplots\n",
    "\n",
    "            data.boxplot(k.columns[i],grid=False,figsize=(5,6))\n",
    "            plt.ylabel(\"Count\",fontsize=14)\n",
    "            plt.title(\"Boxplot of \"+var,fontsize=16)\n",
    "            plt.savefig(directory+ var + \"_boxplot\")\n",
    "            plt.close()\n",
    "            \n",
    "    #Bargraphs\n",
    "    \n",
    "        else:\n",
    "            var =k.columns[i]\n",
    "            data[var].value_counts().plot(kind = 'bar',figsize=(5,6),fontsize=12)\n",
    "            plt.xlabel(var,fontsize=14)\n",
    "            plt.ylabel(\"Count\",fontsize=14)\n",
    "            plt.title(\"Bar graph of \"+var,fontsize=16)\n",
    "            plt.savefig(directory+var + \"_bargraph\")\n",
    "            plt.close()"
   ]
  },
  {
   "cell_type": "markdown",
   "metadata": {},
   "source": [
    "## Suggestion5: To create a local package that will hold the functions. Instead of running the function every time, we can load the package and call the function to generate the graphs."
   ]
  },
  {
   "cell_type": "code",
   "execution_count": 1,
   "metadata": {},
   "outputs": [
    {
     "data": {
      "text/plain": [
       "'C:\\\\Users\\\\Haripriya Mudumba\\\\Downloads'"
      ]
     },
     "execution_count": 1,
     "metadata": {},
     "output_type": "execute_result"
    }
   ],
   "source": [
    "import os\n",
    "import pandas as pd\n",
    "os.getcwd()"
   ]
  },
  {
   "cell_type": "code",
   "execution_count": 2,
   "metadata": {},
   "outputs": [],
   "source": [
    "os.chdir(r'C:\\\\Users\\\\Haripriya Mudumba\\\\Downloads')"
   ]
  },
  {
   "cell_type": "code",
   "execution_count": 4,
   "metadata": {},
   "outputs": [],
   "source": [
    "import Univariate as u\n",
    "u.graph_1(\"cars.csv\")"
   ]
  },
  {
   "cell_type": "code",
   "execution_count": null,
   "metadata": {},
   "outputs": [],
   "source": []
  }
 ],
 "metadata": {
  "kernelspec": {
   "display_name": "Python 3",
   "language": "python",
   "name": "python3"
  },
  "language_info": {
   "codemirror_mode": {
    "name": "ipython",
    "version": 3
   },
   "file_extension": ".py",
   "mimetype": "text/x-python",
   "name": "python",
   "nbconvert_exporter": "python",
   "pygments_lexer": "ipython3",
   "version": "3.6.5"
  }
 },
 "nbformat": 4,
 "nbformat_minor": 2
}
